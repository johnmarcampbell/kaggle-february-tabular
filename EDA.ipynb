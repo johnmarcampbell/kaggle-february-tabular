{
 "cells": [
  {
   "cell_type": "code",
   "execution_count": null,
   "metadata": {},
   "outputs": [],
   "source": [
    "import pandas as pd\n",
    "import numpy as np\n",
    "import util\n",
    "\n",
    "from bokeh.plotting import figure, output_notebook, show\n",
    "from bokeh.layouts import gridplot\n",
    "from bokeh.models import ColumnDataSource, Slope, Whisker\n",
    "from bokeh.palettes import Category10\n",
    "\n",
    "output_notebook()"
   ]
  },
  {
   "cell_type": "code",
   "execution_count": null,
   "metadata": {},
   "outputs": [],
   "source": [
    "data = pd.read_csv('data/train.csv', index_col='id')\n",
    "\n",
    "cat_colz = ['cat'+str(i) for i in range(10)]\n",
    "cont_colz = ['cont'+str(i) for i in range(14)]"
   ]
  },
  {
   "cell_type": "markdown",
   "metadata": {},
   "source": [
    "### Category Means"
   ]
  },
  {
   "cell_type": "code",
   "execution_count": null,
   "metadata": {},
   "outputs": [],
   "source": [
    "cat_fig = figure(height=400,\n",
    "                 width=600,\n",
    "                 x_range=(-0.5, 9.5),\n",
    "                 x_axis_label='Category (jittered)',\n",
    "                 y_axis_label='Mean Target')\n",
    "\n",
    "slope = Slope(gradient=0.001, \n",
    "              y_intercept=data.target.mean(),\n",
    "              line_width=2, \n",
    "              line_dash='dashed',\n",
    "              level='underlay')\n",
    "cat_fig.add_layout(slope)\n",
    "\n",
    "# Axis labels, tick markers, etc.\n",
    "cat_fig.xaxis[0].ticker.desired_num_ticks = 10\n",
    "cat_fig.xaxis[0].ticker.num_minor_ticks = 0\n",
    "cat_fig.xaxis.axis_label_text_font_size = \"16pt\"\n",
    "cat_fig.yaxis.axis_label_text_font_size = \"16pt\"\n",
    "cat_fig.xaxis.major_label_text_font_size = \"12pt\"\n",
    "cat_fig.yaxis.major_label_text_font_size = \"12pt\"\n",
    "\n",
    "for i, col in enumerate(cat_colz):\n",
    "    cat_stats = data[[col, 'target']] \\\n",
    "        .groupby(col) \\\n",
    "        .agg(mean_target=('target', 'mean'),\n",
    "             sem_target=('target', 'sem'),\n",
    "             counts=('target', 'count'))\n",
    "    \n",
    "    random_x = np.random.random(len(cat_stats))\n",
    "    cat_stats['jitter_x'] = i + (random_x - 0.5) / 3\n",
    "    cat_stats['log_percent'] = np.log(cat_stats.counts) / np.log(cat_stats.counts.sum())\n",
    "    \n",
    "    cat_stats.sort_values('log_percent', ascending=False, inplace=True)\n",
    "    \n",
    "    cat_fig.circle(cat_stats.jitter_x, cat_stats.mean_target,\n",
    "             size=15*cat_stats.log_percent,\n",
    "             color=Category10[10][i%10],\n",
    "             alpha=0.8,\n",
    "             line_color='black')\n",
    "    \n",
    "show(cat_fig)"
   ]
  }
 ],
 "metadata": {
  "kernelspec": {
   "display_name": "Python 3",
   "language": "python",
   "name": "python3"
  },
  "language_info": {
   "codemirror_mode": {
    "name": "ipython",
    "version": 3
   },
   "file_extension": ".py",
   "mimetype": "text/x-python",
   "name": "python",
   "nbconvert_exporter": "python",
   "pygments_lexer": "ipython3",
   "version": "3.8.5"
  }
 },
 "nbformat": 4,
 "nbformat_minor": 4
}
